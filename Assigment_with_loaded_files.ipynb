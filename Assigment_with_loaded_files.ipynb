{
  "nbformat": 4,
  "nbformat_minor": 0,
  "metadata": {
    "colab": {
      "name": "Assigment_with_loaded_files.ipynb",
      "provenance": [],
      "authorship_tag": "ABX9TyNUlkeq6MovX8Kd5g5xsR4C",
      "include_colab_link": true
    },
    "kernelspec": {
      "name": "python3",
      "display_name": "Python 3"
    }
  },
  "cells": [
    {
      "cell_type": "markdown",
      "metadata": {
        "id": "view-in-github",
        "colab_type": "text"
      },
      "source": [
        "<a href=\"https://colab.research.google.com/github/AlessioLampis/HomeworkOne/blob/master/Assigment_with_loaded_files.ipynb\" target=\"_parent\"><img src=\"https://colab.research.google.com/assets/colab-badge.svg\" alt=\"Open In Colab\"/></a>"
      ]
    },
    {
      "cell_type": "code",
      "metadata": {
        "id": "t0ZCJfsFXwiB",
        "colab_type": "code",
        "outputId": "60233354-9847-4709-c7b4-f1fc9365ac17",
        "colab": {
          "base_uri": "https://localhost:8080/",
          "height": 122
        }
      },
      "source": [
        "from google.colab import drive\n",
        "drive.mount('/content/gdrive')\n"
      ],
      "execution_count": 0,
      "outputs": [
        {
          "output_type": "stream",
          "text": [
            "Go to this URL in a browser: https://accounts.google.com/o/oauth2/auth?client_id=947318989803-6bn6qk8qdgf4n4g3pfee6491hc0brc4i.apps.googleusercontent.com&redirect_uri=urn%3aietf%3awg%3aoauth%3a2.0%3aoob&response_type=code&scope=email%20https%3a%2f%2fwww.googleapis.com%2fauth%2fdocs.test%20https%3a%2f%2fwww.googleapis.com%2fauth%2fdrive%20https%3a%2f%2fwww.googleapis.com%2fauth%2fdrive.photos.readonly%20https%3a%2f%2fwww.googleapis.com%2fauth%2fpeopleapi.readonly\n",
            "\n",
            "Enter your authorization code:\n",
            "··········\n",
            "Mounted at /content/gdrive\n"
          ],
          "name": "stdout"
        }
      ]
    },
    {
      "cell_type": "code",
      "metadata": {
        "id": "5xDV_ipEXcnz",
        "colab_type": "code",
        "outputId": "5f973cfd-e5ae-4d5e-ad02-61daf4a3f4c5",
        "colab": {
          "base_uri": "https://localhost:8080/",
          "height": 1000
        }
      },
      "source": [
        "##IMPORT THE FEATURES\n",
        "\n",
        "#import Pandas library\n",
        "import pandas as pd\n",
        "\n",
        "#import the metadata file .csv\n",
        "metadata = pd.read_csv('gdrive/My Drive/UrbanSound8K.csv')\n",
        "metadata.head()\n",
        "\n",
        "#import pickle to save and write file in Pickle format\n",
        "import pickle\n",
        "\n",
        "#path to the saved features as dataframe\n",
        "saved_feat_path = \"gdrive/My Drive/features_df.pickle\"\n",
        "\n",
        "#import the feature as a Pickle file\n",
        "with open(saved_feat_path, 'rb') as data:\n",
        "    featuresdf_saved = pickle.load(data)   \n",
        "\n",
        "##IMPORT THE CNN MODEL\n",
        "\n",
        "# import the model from json module provided by keras \n",
        "from keras.models import model_from_json\n",
        "\n",
        "# load json file and create model\n",
        "json_file = open('gdrive/My Drive/model.json', 'r')\n",
        "loaded_model_json = json_file.read()\n",
        "json_file.close()\n",
        "loaded_model = model_from_json(loaded_model_json)\n",
        "\n",
        "#load the weight from the model file into the loaded model\n",
        "loaded_model.load_weights(\"gdrive/My Drive/model.h5\")\n",
        "\n",
        "#compile the model\n",
        "loaded_model.compile(loss='categorical_crossentropy', metrics=['accuracy'], optimizer='adam')\n",
        "\n",
        "## EVALUATE THE MODEL\n",
        "\n",
        "#import numpy\n",
        "import numpy as np\n",
        "\n",
        "#manipulation of dataframe into a matrix\n",
        "\n",
        "#X contains 8732 features. Each of this is a 40x174 matrix which represent the MCCS\n",
        "X = np.array(featuresdf_saved.feature.tolist())\n",
        "\n",
        "#import librosa and librosa display to show one element of X\n",
        "import librosa\n",
        "import librosa.display\n",
        "import matplotlib.pyplot as plt\n",
        "\n",
        "#plot the first feature \n",
        "plt.figure(figsize=(12, 4))\n",
        "librosa.display.specshow(X[7],x_axis='time', y_axis='mel')\n",
        "plt.colorbar()\n",
        "plt.title('MFCC')\n",
        "plt.tight_layout()\n",
        "plt.show()\n",
        "print(f'MFFCs shape: {X[7].shape}')\n",
        "\n",
        "#y is the array of class names\n",
        "y = np.array(featuresdf_saved.class_label.tolist())\n",
        "\n",
        "#preprocess the classes into an array of binary\n",
        "from sklearn.preprocessing import LabelEncoder\n",
        "from keras.utils import to_categorical\n",
        "\n",
        "le = LabelEncoder()\n",
        "yy = to_categorical(le.fit_transform(y)) \n",
        "print(yy)\n",
        "\n",
        "#split the dataset in training and testing features\n",
        "from sklearn.model_selection import train_test_split \n",
        "\n",
        "#10% of features will be the test\n",
        "x_train, x_test, y_train, y_test = train_test_split(X, yy, test_size=0.1, random_state = 42) \n",
        "\n",
        "#Reshape the features in order to be used into the model\n",
        "num_rows = 40\n",
        "num_columns = 174\n",
        "num_channels = 1\n",
        "\n",
        "x_train = x_train.reshape(x_train.shape[0], num_rows, num_columns, num_channels)\n",
        "x_test = x_test.reshape(x_test.shape[0], num_rows, num_columns, num_channels)\n",
        "\n",
        "#calculate the accuracy of the model\n",
        "\n",
        "loaded_model.summary()\n",
        "score = loaded_model.evaluate(x_test, y_test, verbose=1)\n",
        "accuracy = 100*score[1]\n",
        "print(accuracy)\n",
        "\n",
        "##TEST THE MODEL AND PRINT THE CONFUSION MATRIX\n",
        "\n",
        "#testing the model with external audio files (not from the dataset)\n",
        "\n",
        "#printing the confusion matrix\n",
        "\n",
        "#import the needed library\n",
        "from sklearn.metrics import confusion_matrix\n",
        "\n",
        "#calculate the prediction \n",
        "predictions = loaded_model.predict(x_test)\n",
        "\n",
        "#plot the matrix\n",
        "confusion_matrix(y_test.argmax(axis=1), predictions.argmax(axis=1))\n"
      ],
      "execution_count": 0,
      "outputs": [
        {
          "output_type": "stream",
          "text": [
            "Using TensorFlow backend.\n"
          ],
          "name": "stderr"
        },
        {
          "output_type": "display_data",
          "data": {
            "image/png": "[encoded data removed]",
            "text/plain": [
              "<Figure size 864x288 with 2 Axes>"
            ]
          },
          "metadata": {
            "tags": [],
            "needs_background": "light"
          }
        },
        {
          "output_type": "stream",
          "text": [
            "MFFCs shape: (40, 174)\n",
            "[[0. 0. 0. ... 0. 0. 0.]\n",
            " [0. 0. 1. ... 0. 0. 0.]\n",
            " [0. 0. 1. ... 0. 0. 0.]\n",
            " ...\n",
            " [0. 1. 0. ... 0. 0. 0.]\n",
            " [0. 1. 0. ... 0. 0. 0.]\n",
            " [0. 1. 0. ... 0. 0. 0.]]\n",
            "Model: \"sequential_1\"\n",
            "_________________________________________________________________\n",
            "Layer (type)                 Output Shape              Param #   \n",
            "=================================================================\n",
            "conv2d_1 (Conv2D)            (None, 39, 173, 16)       80        \n",
            "_________________________________________________________________\n",
            "max_pooling2d_1 (MaxPooling2 (None, 19, 86, 16)        0         \n",
            "_________________________________________________________________\n",
            "dropout_1 (Dropout)          (None, 19, 86, 16)        0         \n",
            "_________________________________________________________________\n",
            "conv2d_2 (Conv2D)            (None, 18, 85, 32)        2080      \n",
            "_________________________________________________________________\n",
            "max_pooling2d_2 (MaxPooling2 (None, 9, 42, 32)         0         \n",
            "_________________________________________________________________\n",
            "dropout_2 (Dropout)          (None, 9, 42, 32)         0         \n",
            "_________________________________________________________________\n",
            "conv2d_3 (Conv2D)            (None, 8, 41, 64)         8256      \n",
            "_________________________________________________________________\n",
            "max_pooling2d_3 (MaxPooling2 (None, 4, 20, 64)         0         \n",
            "_________________________________________________________________\n",
            "dropout_3 (Dropout)          (None, 4, 20, 64)         0         \n",
            "_________________________________________________________________\n",
            "conv2d_4 (Conv2D)            (None, 3, 19, 128)        32896     \n",
            "_________________________________________________________________\n",
            "max_pooling2d_4 (MaxPooling2 (None, 1, 9, 128)         0         \n",
            "_________________________________________________________________\n",
            "dropout_4 (Dropout)          (None, 1, 9, 128)         0         \n",
            "_________________________________________________________________\n",
            "global_average_pooling2d_1 ( (None, 128)               0         \n",
            "_________________________________________________________________\n",
            "dense_1 (Dense)              (None, 10)                1290      \n",
            "=================================================================\n",
            "Total params: 44,602\n",
            "Trainable params: 44,602\n",
            "Non-trainable params: 0\n",
            "_________________________________________________________________\n",
            "874/874 [==============================] - 2s 2ms/step\n",
            "90.61784744262695\n"
          ],
          "name": "stdout"
        },
        {
          "output_type": "execute_result",
          "data": {
            "text/plain": [
              "array([[ 94,   0,   0,   0,   0,   3,   0,   0,   0,   1],\n",
              "       [  1,  36,   0,   0,   0,   0,   0,   0,   0,   0],\n",
              "       [  2,   1,  75,   1,   0,   4,   0,   0,   2,  15],\n",
              "       [  0,   1,   6,  83,   0,   1,   3,   1,   2,   2],\n",
              "       [  0,   1,   1,   1,  97,   2,   0,   6,   0,   0],\n",
              "       [  0,   0,   0,   0,   0,  94,   0,   1,   0,   1],\n",
              "       [  0,   0,   0,   0,   0,   0,  34,   0,   0,   0],\n",
              "       [  1,   0,   0,   0,   3,   0,   0, 100,   0,   1],\n",
              "       [  0,   0,   0,   1,   0,   0,   0,   0,  84,   1],\n",
              "       [  2,   2,   4,   0,   0,   2,   0,   0,   6,  95]])"
            ]
          },
          "metadata": {
            "tags": []
          },
          "execution_count": 2
        }
      ]
    }
  ]
}